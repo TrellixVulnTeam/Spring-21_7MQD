{
 "cells": [
  {
   "cell_type": "code",
   "execution_count": 1,
   "metadata": {},
   "outputs": [],
   "source": [
    "import numpy as np\n",
    "import torch\n",
    "from torch import nn\n",
    "import torch.nn.functional as F"
   ]
  },
  {
   "cell_type": "code",
   "execution_count": 2,
   "metadata": {},
   "outputs": [],
   "source": [
    "# open text file and read in data as `text`\n",
    "with open('data/anna.txt', 'r') as f:\n",
    "    text = f.read()"
   ]
  },
  {
   "cell_type": "code",
   "execution_count": 5,
   "metadata": {},
   "outputs": [
    {
     "name": "stdout",
     "output_type": "stream",
     "text": [
      "1985223\n"
     ]
    }
   ],
   "source": [
    "print(len(text))"
   ]
  },
  {
   "cell_type": "code",
   "execution_count": 6,
   "metadata": {},
   "outputs": [],
   "source": [
    "# encode the text and map each character to an integer and vice versa\n",
    "\n",
    "# we create two dictionaries:\n",
    "# 1. int2char, which maps integers to characters\n",
    "# 2. char2int, which maps characters to unique integers\n",
    "chars = tuple(set(text))\n",
    "int2char = dict(enumerate(chars))\n",
    "char2int = {ch: ii for ii, ch in int2char.items()}\n",
    "\n",
    "# encode the text\n",
    "encoded = np.array([char2int[ch] for ch in text])"
   ]
  },
  {
   "cell_type": "code",
   "execution_count": 8,
   "metadata": {},
   "outputs": [
    {
     "name": "stdout",
     "output_type": "stream",
     "text": [
      "{0: '\\n', 1: '8', 2: 'f', 3: '!', 4: 'd', 5: '5', 6: 'h', 7: 't', 8: 'n', 9: 'L', 10: '*', 11: 'Z', 12: ';', 13: ')', 14: 'r', 15: 'G', 16: '`', 17: 'Q', 18: 'P', 19: 'j', 20: 'u', 21: '6', 22: 'Y', 23: 'J', 24: '0', 25: 'M', 26: '(', 27: 'C', 28: 'O', 29: 'X', 30: 'K', 31: 'W', 32: 'v', 33: '/', 34: 'l', 35: '\"', 36: 'N', 37: 'D', 38: '9', 39: 'V', 40: '_', 41: '%', 42: 'R', 43: 'c', 44: '-', 45: '.', 46: '@', 47: 'g', 48: ':', 49: 'A', 50: 'm', 51: 'E', 52: 'e', 53: 'i', 54: 'S', 55: 'q', 56: '?', 57: 'b', 58: 'o', 59: '$', 60: 's', 61: '3', 62: 'H', 63: 'I', 64: 'k', 65: 'B', 66: \"'\", 67: 'y', 68: 'z', 69: 'F', 70: '2', 71: '4', 72: ' ', 73: ',', 74: 'x', 75: '7', 76: '1', 77: 'w', 78: 'p', 79: 'T', 80: 'a', 81: 'U', 82: '&'}\n",
      "{'\\n': 0, '8': 1, 'f': 2, '!': 3, 'd': 4, '5': 5, 'h': 6, 't': 7, 'n': 8, 'L': 9, '*': 10, 'Z': 11, ';': 12, ')': 13, 'r': 14, 'G': 15, '`': 16, 'Q': 17, 'P': 18, 'j': 19, 'u': 20, '6': 21, 'Y': 22, 'J': 23, '0': 24, 'M': 25, '(': 26, 'C': 27, 'O': 28, 'X': 29, 'K': 30, 'W': 31, 'v': 32, '/': 33, 'l': 34, '\"': 35, 'N': 36, 'D': 37, '9': 38, 'V': 39, '_': 40, '%': 41, 'R': 42, 'c': 43, '-': 44, '.': 45, '@': 46, 'g': 47, ':': 48, 'A': 49, 'm': 50, 'E': 51, 'e': 52, 'i': 53, 'S': 54, 'q': 55, '?': 56, 'b': 57, 'o': 58, '$': 59, 's': 60, '3': 61, 'H': 62, 'I': 63, 'k': 64, 'B': 65, \"'\": 66, 'y': 67, 'z': 68, 'F': 69, '2': 70, '4': 71, ' ': 72, ',': 73, 'x': 74, '7': 75, '1': 76, 'w': 77, 'p': 78, 'T': 79, 'a': 80, 'U': 81, '&': 82}\n"
     ]
    }
   ],
   "source": [
    "print(int2char)\n",
    "print(char2int)"
   ]
  },
  {
   "cell_type": "code",
   "execution_count": 10,
   "metadata": {},
   "outputs": [
    {
     "name": "stdout",
     "output_type": "stream",
     "text": [
      "[27  6 80 ... 60 45  0]\n",
      "1985223\n"
     ]
    }
   ],
   "source": [
    "print(encoded)\n",
    "print(len(encoded))"
   ]
  },
  {
   "cell_type": "code",
   "execution_count": 11,
   "metadata": {},
   "outputs": [],
   "source": [
    "\n",
    "def one_hot_encode(arr, n_labels):\n",
    "    \n",
    "    # Initialize the encoded array\n",
    "    one_hot = np.zeros((arr.size, n_labels), dtype=np.float32)\n",
    "    \n",
    "    # Fill the appropriate elements with ones\n",
    "    one_hot[np.arange(one_hot.shape[0]), arr.flatten()] = 1.\n",
    "    \n",
    "    # Finally reshape it to get back to the original array\n",
    "    one_hot = one_hot.reshape((*arr.shape, n_labels))\n",
    "    \n",
    "    return one_hot"
   ]
  },
  {
   "cell_type": "code",
   "execution_count": 12,
   "metadata": {},
   "outputs": [
    {
     "name": "stdout",
     "output_type": "stream",
     "text": [
      "[[[0. 0. 0. 1. 0. 0. 0. 0.]\n",
      "  [0. 0. 0. 0. 0. 1. 0. 0.]\n",
      "  [0. 1. 0. 0. 0. 0. 0. 0.]]]\n"
     ]
    }
   ],
   "source": [
    "# check that the function works as expected\n",
    "test_seq = np.array([[3, 5, 1]])\n",
    "one_hot = one_hot_encode(test_seq, 8)\n",
    "\n",
    "print(one_hot)"
   ]
  },
  {
   "cell_type": "code",
   "execution_count": 13,
   "metadata": {},
   "outputs": [
    {
     "ename": "SyntaxError",
     "evalue": "invalid syntax (<ipython-input-13-099b0f3d87f5>, line 13)",
     "output_type": "error",
     "traceback": [
      "\u001b[0;36m  File \u001b[0;32m\"<ipython-input-13-099b0f3d87f5>\"\u001b[0;36m, line \u001b[0;32m13\u001b[0m\n\u001b[0;31m    n_batches =\u001b[0m\n\u001b[0m                ^\u001b[0m\n\u001b[0;31mSyntaxError\u001b[0m\u001b[0;31m:\u001b[0m invalid syntax\n"
     ]
    }
   ],
   "source": [
    "def get_batches(arr, batch_size, seq_length):\n",
    "    '''Create a generator that returns batches of size\n",
    "       batch_size x seq_length from arr.\n",
    "       \n",
    "       Arguments\n",
    "       ---------\n",
    "       arr: Array you want to make batches from\n",
    "       batch_size: Batch size, the number of sequences per batch\n",
    "       seq_length: Number of encoded chars in a sequence\n",
    "    '''\n",
    "    \n",
    "    ## TODO: Get the number of batches we can make\n",
    "    n_batches = \n",
    "    \n",
    "    ## TODO: Keep only enough characters to make full batches\n",
    "    arr = \n",
    "    \n",
    "    ## TODO: Reshape into batch_size rows\n",
    "    arr = \n",
    "    \n",
    "    ## TODO: Iterate over the batches using a window of size seq_length\n",
    "    for n in range(0, arr.shape[1], seq_length):\n",
    "        # The features\n",
    "        x = \n",
    "        # The targets, shifted by one\n",
    "        y = \n",
    "        yield x, y\n"
   ]
  },
  {
   "cell_type": "code",
   "execution_count": null,
   "metadata": {},
   "outputs": [],
   "source": []
  }
 ],
 "metadata": {
  "kernelspec": {
   "display_name": "Python 3",
   "language": "python",
   "name": "python3"
  },
  "language_info": {
   "codemirror_mode": {
    "name": "ipython",
    "version": 3
   },
   "file_extension": ".py",
   "mimetype": "text/x-python",
   "name": "python",
   "nbconvert_exporter": "python",
   "pygments_lexer": "ipython3",
   "version": "3.8.5"
  }
 },
 "nbformat": 4,
 "nbformat_minor": 4
}
