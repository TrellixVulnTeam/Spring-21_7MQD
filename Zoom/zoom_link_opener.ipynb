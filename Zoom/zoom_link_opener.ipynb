{
 "cells": [
  {
   "cell_type": "code",
   "execution_count": 1,
   "metadata": {},
   "outputs": [],
   "source": [
    "import pyautogui as pyg\n",
    "import webbrowser as wb\n",
    "import datetime\n",
    "import time\n",
    "import click"
   ]
  },
  {
   "cell_type": "code",
   "execution_count": 3,
   "metadata": {},
   "outputs": [],
   "source": [
    "# functions to format date, time\n",
    "def format_date(x):\n",
    "    date_list = x.split(sep=\"-\")\n",
    "    return list(map(int, date_list))\n",
    "\n",
    "def format_time(x):\n",
    "    time_list = x.split(sep=\"-\")\n",
    "    return list(map(int, time_list))\n",
    "\n",
    "def given_datetime(given_date, given_time):\n",
    "\n",
    "    # YY, MM, DD, HH, MM\n",
    "    return datetime.datetime(given_date[2], given_date[1], given_date[0], given_time[0], given_time[1], given_time[2])"
   ]
  },
  {
   "cell_type": "code",
   "execution_count": 4,
   "metadata": {},
   "outputs": [],
   "source": [
    "# join the meeting\n",
    "def join_meeting():\n",
    "\n",
    "    #meeting_date_x = format_date(meeting_date)\n",
    "    #meeting_time_x = format_time(meeting_time)\n",
    "    #required_datetime = given_datetime(meeting_date_x, meeting_time_x)\n",
    "\n",
    "    # time difference between current and meeting time\n",
    "    #wait_time_sec = (required_datetime - datetime.datetime.now().replace(microsecond=0)).total_seconds()\n",
    "    #print(\"Your ZOOM meeting starts in \" + str(wait_time_sec/60) + \" min\")\n",
    "    #time.sleep(wait_time_sec)\n",
    "    zoom_link = 'https://us05web.zoom.us/j/7920914890?pwd=VnA3cnBJVFNhZytwNDVaNnZJUjFWQT09'\n",
    "    # zoom app related\n",
    "    wb.open(zoom_link, new=2) #open zoom link in a new window\n",
    "    time.sleep(5) # given time for the link to show app top-up window\n",
    "    pyg.click(x=805, y=254, clicks=1, interval=0, button='left') # click on open zoom.app option\n",
    "    time.sleep(10) # wait for 10 sec\n",
    "    pyg.click(x=195, y=31, clicks=1, interval=0, button='left') # maximize zoom app\n",
    "    time.sleep(3) # wait for 3 sec\n",
    "    pyg.click(x=50, y=776, clicks=1, interval=0, button='left')\n",
    "    \n",
    "join_meeting()"
   ]
  },
  {
   "cell_type": "code",
   "execution_count": null,
   "metadata": {},
   "outputs": [],
   "source": []
  }
 ],
 "metadata": {
  "kernelspec": {
   "display_name": "Python 3",
   "language": "python",
   "name": "python3"
  },
  "language_info": {
   "codemirror_mode": {
    "name": "ipython",
    "version": 3
   },
   "file_extension": ".py",
   "mimetype": "text/x-python",
   "name": "python",
   "nbconvert_exporter": "python",
   "pygments_lexer": "ipython3",
   "version": "3.8.5"
  }
 },
 "nbformat": 4,
 "nbformat_minor": 4
}
