{
 "cells": [
  {
   "cell_type": "code",
   "execution_count": 1,
   "metadata": {},
   "outputs": [],
   "source": [
    "#Import necessary packages\n",
    "\n",
    "%matplotlib inline\n",
    "%config InlineBackend.figure_format = 'retina'\n",
    "\n",
    "import numpy as np\n",
    "import torch\n",
    "\n",
    "import helper1\n",
    "\n",
    "import matplotlib.pyplot as plt"
   ]
  },
  {
   "cell_type": "code",
   "execution_count": 2,
   "metadata": {},
   "outputs": [],
   "source": [
    "\n",
    "### Run this cell\n",
    "\n",
    "from torchvision import datasets, transforms\n",
    "\n",
    "# Define a transform to normalize the data\n",
    "transform = transforms.Compose([transforms.ToTensor(),\n",
    "                              transforms.Normalize((0.5,), (0.5,)),\n",
    "                              ])\n",
    "\n",
    "# Download and load the training data\n",
    "trainset = datasets.MNIST('~/.pytorch/MNIST_data/', download=True, train=True, transform=transform)\n",
    "trainloader = torch.utils.data.DataLoader(trainset, batch_size=64, shuffle=True)"
   ]
  },
  {
   "cell_type": "code",
   "execution_count": 3,
   "metadata": {},
   "outputs": [
    {
     "name": "stdout",
     "output_type": "stream",
     "text": [
      "<class 'torch.Tensor'>\n",
      "torch.Size([64, 1, 28, 28])\n",
      "torch.Size([64])\n"
     ]
    }
   ],
   "source": [
    "dataiter = iter(trainloader)\n",
    "images, labels = dataiter.next()\n",
    "print(type(images))\n",
    "print(images.shape)\n",
    "print(labels.shape)"
   ]
  },
  {
   "cell_type": "code",
   "execution_count": 4,
   "metadata": {},
   "outputs": [
    {
     "data": {
      "image/png": "[encoded data removed]",
      "text/plain": [
       "<Figure size 432x288 with 1 Axes>"
      ]
     },
     "metadata": {
      "image/png": {
       "height": 248,
       "width": 251
      },
      "needs_background": "light"
     },
     "output_type": "display_data"
    }
   ],
   "source": [
    "plt.imshow(images[1].numpy().squeeze(), cmap='Greys_r');\n"
   ]
  },
  {
   "cell_type": "code",
   "execution_count": 5,
   "metadata": {},
   "outputs": [
    {
     "name": "stdout",
     "output_type": "stream",
     "text": [
      "torch.Size([64, 1, 28, 28])\n"
     ]
    }
   ],
   "source": [
    "print(images.shape)\n",
    "\n",
    "def activation(x):\n",
    "    return 1 / (1 + torch.exp(-x))\n"
   ]
  },
  {
   "cell_type": "code",
   "execution_count": 6,
   "metadata": {},
   "outputs": [
    {
     "name": "stdout",
     "output_type": "stream",
     "text": [
      "tensor([[ 3.3092e-01,  9.6140e-03, -7.7345e-01,  1.5252e+00, -4.0192e-01,\n",
      "          1.6820e+00, -7.1506e-01, -1.2518e-01,  7.4712e-01, -1.1009e-01,\n",
      "         -1.6264e+00,  1.0538e+00,  6.2883e-01,  3.4288e-01, -2.9303e-01,\n",
      "         -7.4532e-01,  5.3722e-01,  3.1190e-01,  4.6281e-02, -1.5997e-01,\n",
      "          4.4245e-01,  6.0302e-01, -1.1584e+00,  2.9073e-01, -3.1155e-01,\n",
      "         -8.5346e-01,  1.2978e-01, -5.7665e-01,  4.3200e-01, -9.8913e-01,\n",
      "         -2.9959e-01, -9.8143e-01, -8.0305e-01,  1.1721e+00, -1.9376e-02,\n",
      "          2.2907e-01,  1.3890e+00,  4.6926e-01,  8.7180e-01,  1.2575e-01,\n",
      "          7.9955e-01,  6.4723e-01, -6.2149e-01,  5.5140e-01,  2.6937e-01,\n",
      "          1.1175e+00,  7.6207e-01, -1.4710e-01, -1.2300e+00, -9.9177e-01,\n",
      "          2.1655e+00,  1.8725e+00, -6.7620e-01, -2.1595e+00, -9.4203e-01,\n",
      "          2.0341e+00, -1.9451e+00,  7.1492e-01, -4.3941e-01,  3.0798e-01,\n",
      "         -7.0844e-01, -4.3084e-01,  9.8446e-02, -2.6229e+00, -7.4782e-01,\n",
      "         -1.1570e+00, -1.7254e-01,  7.8513e-03,  3.0725e-01, -1.1422e+00,\n",
      "         -1.9220e+00, -5.8498e-01, -5.8214e-01,  1.5919e-01, -1.5302e-01,\n",
      "         -6.2947e-01,  9.0568e-01, -1.0931e+00, -2.9624e+00,  7.0651e-01,\n",
      "         -8.7123e-01,  8.6292e-01,  2.5204e-01,  2.9381e-01, -7.1167e-02,\n",
      "          9.7291e-01, -4.1172e-01,  1.5930e+00, -6.0170e-02,  1.2873e+00,\n",
      "          8.5856e-01, -6.8172e-01, -1.8118e+00, -3.4738e-01, -8.0626e-01,\n",
      "         -1.1304e+00, -2.2049e-01, -1.2169e+00, -1.8923e-01,  1.0820e+00,\n",
      "          6.3602e-01, -7.1101e-01, -1.0274e+00, -7.3083e-01, -7.1730e-01,\n",
      "         -1.6110e-02, -1.0440e+00,  3.4820e-03, -4.5492e-01,  2.4290e+00,\n",
      "         -1.3680e+00,  1.0642e-01,  5.2966e-01,  2.4970e-03, -1.0725e+00,\n",
      "         -1.1518e+00,  4.0669e-01, -2.5219e-01,  6.2066e-01, -1.9086e+00,\n",
      "          2.6010e-01,  1.0888e+00, -6.6371e-01, -4.3150e-01, -5.8069e-01,\n",
      "          3.4127e-01,  2.3313e-01,  6.0699e-01, -3.8834e-01,  4.0845e-01,\n",
      "          1.5446e+00,  1.1627e+00, -9.1103e-01,  1.7447e+00, -1.0979e-02,\n",
      "          4.1264e-01,  9.5521e-01,  8.9462e-01, -1.5004e+00, -7.1829e-01,\n",
      "          6.7044e-01,  4.2896e-01, -9.8451e-01,  8.1726e-01, -1.2281e+00,\n",
      "         -1.5492e+00, -1.1780e+00,  1.7075e+00, -1.3434e-01, -1.1417e+00,\n",
      "         -5.9903e-02, -2.1116e+00, -9.5831e-01, -1.2746e+00,  1.8802e-01,\n",
      "          5.0855e-01,  9.3154e-01,  1.4389e+00,  4.0108e-01,  1.0411e-01,\n",
      "         -6.8642e-01, -1.8466e-01, -1.0622e+00, -8.2157e-01, -2.7668e-01,\n",
      "         -2.9728e-01,  1.7257e+00,  6.0739e-01,  1.4605e-01,  1.0517e+00,\n",
      "          5.7498e-01,  1.2989e+00,  4.0872e-01, -7.2043e-01,  1.3227e+00,\n",
      "         -3.2485e+00, -1.7884e+00,  1.1562e+00,  4.7166e-02, -4.6449e-02,\n",
      "          4.0183e-01, -5.1784e-01,  6.9311e-01,  7.8472e-01,  6.6539e-01,\n",
      "         -2.7488e+00, -5.3881e-01,  2.5665e-01, -8.6832e-01, -1.9169e+00,\n",
      "          9.1738e-01,  3.8915e-01, -9.7464e-01, -1.3320e+00, -7.0490e-01,\n",
      "         -7.7390e-01, -3.9479e-01,  1.2550e+00,  1.8309e+00, -3.0666e-01,\n",
      "          7.6175e-01,  1.3168e-01,  1.5768e+00, -4.7404e-01, -5.5168e-01,\n",
      "         -1.2131e-01, -7.9219e-01,  9.8506e-01, -1.8528e-01, -7.4829e-02,\n",
      "          9.6684e-01, -2.7692e-02,  6.1891e-01,  1.0817e+00, -1.3487e-01,\n",
      "          1.7251e-01,  4.2136e-01,  4.0915e-02,  2.1150e-01, -6.1666e-01,\n",
      "         -5.2912e-01,  9.6841e-01, -6.1238e-01,  1.4109e+00, -3.0435e-01,\n",
      "         -1.6724e-01, -2.1308e-01,  4.6664e-01, -8.9353e-01,  6.1906e-01,\n",
      "          7.7112e-01, -6.2345e-01, -2.4163e-01,  1.9128e+00,  6.2693e-02,\n",
      "          4.3237e-01,  6.7414e-01, -1.1062e+00, -1.7819e+00,  8.1517e-01,\n",
      "          2.6494e-01,  1.4346e+00, -1.5382e+00,  4.1662e-01, -1.1258e+00,\n",
      "         -2.0205e+00,  1.5831e+00, -3.7901e-01,  1.3890e+00,  5.4376e-02,\n",
      "          9.4914e-01, -1.3097e+00, -1.6675e+00,  7.8914e-01,  1.7043e-01,\n",
      "          1.2028e+00]])\n"
     ]
    }
   ],
   "source": [
    "inputs = images.view(images.shape[0], -1)\n",
    "\n",
    "n_input = 784\n",
    "n_hidden = 256                    # Number of hidden units \n",
    "n_output = 10\n",
    "\n",
    "w1 = torch.randn(n_input, n_hidden)\n",
    "w2 = torch.randn(n_hidden, n_output)\n",
    "b1 = torch.randn(1, n_hidden)\n",
    "print(b1)\n",
    "b2 = torch.randn(1, n_output)"
   ]
  },
  {
   "cell_type": "code",
   "execution_count": 7,
   "metadata": {},
   "outputs": [
    {
     "name": "stdout",
     "output_type": "stream",
     "text": [
      "torch.Size([64, 10])\n"
     ]
    }
   ],
   "source": [
    "h1 = activation(torch.mm(inputs, w1) + b1)\n",
    "\n",
    "out = torch.mm(h1, w2) + b2\n",
    "print(out.shape)\n",
    "\n"
   ]
  },
  {
   "cell_type": "code",
   "execution_count": 11,
   "metadata": {},
   "outputs": [
    {
     "ename": "TypeError",
     "evalue": "unsupported format string passed to Tensor.__format__",
     "output_type": "error",
     "traceback": [
      "\u001b[0;31m---------------------------------------------------------------------------\u001b[0m",
      "\u001b[0;31mTypeError\u001b[0m                                 Traceback (most recent call last)",
      "\u001b[0;32m<ipython-input-11-5a9cda8c8921>\u001b[0m in \u001b[0;36m<module>\u001b[0;34m\u001b[0m\n\u001b[1;32m      9\u001b[0m \u001b[0;34m\u001b[0m\u001b[0m\n\u001b[1;32m     10\u001b[0m \u001b[0;31m# Does it have the right shape? Should be (64, 10)\u001b[0m\u001b[0;34m\u001b[0m\u001b[0;34m\u001b[0m\u001b[0;34m\u001b[0m\u001b[0m\n\u001b[0;32m---> 11\u001b[0;31m \u001b[0mprint\u001b[0m\u001b[0;34m(\u001b[0m\u001b[0;34m\"{:.3f}\"\u001b[0m\u001b[0;34m.\u001b[0m\u001b[0mformat\u001b[0m\u001b[0;34m(\u001b[0m\u001b[0mprobabilities\u001b[0m\u001b[0;34m[\u001b[0m\u001b[0;36m0\u001b[0m\u001b[0;34m]\u001b[0m\u001b[0;34m)\u001b[0m\u001b[0;34m)\u001b[0m\u001b[0;34m\u001b[0m\u001b[0;34m\u001b[0m\u001b[0m\n\u001b[0m\u001b[1;32m     12\u001b[0m \u001b[0;31m# Does it sum to 1?\u001b[0m\u001b[0;34m\u001b[0m\u001b[0;34m\u001b[0m\u001b[0;34m\u001b[0m\u001b[0m\n\u001b[1;32m     13\u001b[0m \u001b[0mprint\u001b[0m\u001b[0;34m(\u001b[0m\u001b[0mprobabilities\u001b[0m\u001b[0;34m.\u001b[0m\u001b[0msum\u001b[0m\u001b[0;34m(\u001b[0m\u001b[0mdim\u001b[0m\u001b[0;34m=\u001b[0m\u001b[0;36m1\u001b[0m\u001b[0;34m)\u001b[0m\u001b[0;34m)\u001b[0m\u001b[0;34m\u001b[0m\u001b[0;34m\u001b[0m\u001b[0m\n",
      "\u001b[0;32m~/anaconda3/lib/python3.8/site-packages/torch/tensor.py\u001b[0m in \u001b[0;36m__format__\u001b[0;34m(self, format_spec)\u001b[0m\n\u001b[1;32m    533\u001b[0m         \u001b[0;32mif\u001b[0m \u001b[0mself\u001b[0m\u001b[0;34m.\u001b[0m\u001b[0mdim\u001b[0m\u001b[0;34m(\u001b[0m\u001b[0;34m)\u001b[0m \u001b[0;34m==\u001b[0m \u001b[0;36m0\u001b[0m\u001b[0;34m:\u001b[0m\u001b[0;34m\u001b[0m\u001b[0;34m\u001b[0m\u001b[0m\n\u001b[1;32m    534\u001b[0m             \u001b[0;32mreturn\u001b[0m \u001b[0mself\u001b[0m\u001b[0;34m.\u001b[0m\u001b[0mitem\u001b[0m\u001b[0;34m(\u001b[0m\u001b[0;34m)\u001b[0m\u001b[0;34m.\u001b[0m\u001b[0m__format__\u001b[0m\u001b[0;34m(\u001b[0m\u001b[0mformat_spec\u001b[0m\u001b[0;34m)\u001b[0m\u001b[0;34m\u001b[0m\u001b[0;34m\u001b[0m\u001b[0m\n\u001b[0;32m--> 535\u001b[0;31m         \u001b[0;32mreturn\u001b[0m \u001b[0mobject\u001b[0m\u001b[0;34m.\u001b[0m\u001b[0m__format__\u001b[0m\u001b[0;34m(\u001b[0m\u001b[0mself\u001b[0m\u001b[0;34m,\u001b[0m \u001b[0mformat_spec\u001b[0m\u001b[0;34m)\u001b[0m\u001b[0;34m\u001b[0m\u001b[0;34m\u001b[0m\u001b[0m\n\u001b[0m\u001b[1;32m    536\u001b[0m \u001b[0;34m\u001b[0m\u001b[0m\n\u001b[1;32m    537\u001b[0m     \u001b[0;32mdef\u001b[0m \u001b[0m__ipow__\u001b[0m\u001b[0;34m(\u001b[0m\u001b[0mself\u001b[0m\u001b[0;34m,\u001b[0m \u001b[0mother\u001b[0m\u001b[0;34m)\u001b[0m\u001b[0;34m:\u001b[0m  \u001b[0;31m# type: ignore[misc]\u001b[0m\u001b[0;34m\u001b[0m\u001b[0;34m\u001b[0m\u001b[0m\n",
      "\u001b[0;31mTypeError\u001b[0m: unsupported format string passed to Tensor.__format__"
     ]
    }
   ],
   "source": [
    "def softmax(x):\n",
    "    ## TODO: Implement the softmax function here\n",
    "    return torch.exp(x) / torch.sum(torch.exp(x), dim = 1).view(-1, 1)\n",
    "        \n",
    "        \n",
    "\n",
    "# Here, out should be the output of the network in the previous excercise with shape (64,10)\n",
    "probabilities = softmax(out)\n",
    "\n",
    "# Does it have the right shape? Should be (64, 10)\n",
    "print(probabilities.shape)\n",
    "# Does it sum to 1?\n",
    "print(probabilities.sum(dim=1))"
   ]
  },
  {
   "cell_type": "code",
   "execution_count": 42,
   "metadata": {},
   "outputs": [],
   "source": [
    "from torch import nn"
   ]
  },
  {
   "cell_type": "code",
   "execution_count": 43,
   "metadata": {},
   "outputs": [],
   "source": [
    "class Network(nn.Module):\n",
    "    def __init__(self):\n",
    "        super().__init__()\n",
    "        \n",
    "        # Inputs to hidden layer linear transformation\n",
    "        self.hidden = nn.Linear(784, 256)\n",
    "        # Output layer, 10 units - one for each digit\n",
    "        self.output = nn.Linear(256, 10)\n",
    "        \n",
    "        # Define sigmoid activation and softmax output \n",
    "        self.sigmoid = nn.Sigmoid()\n",
    "        self.softmax = nn.Softmax(dim=1)\n",
    "        \n",
    "    def forward(self, x):\n",
    "        # Pass the input tensor through each of our operations\n",
    "        x = self.hidden(x)\n",
    "        x = self.sigmoid(x)\n",
    "        x = self.output(x)\n",
    "        x = self.softmax(x)\n",
    "        \n",
    "        return x"
   ]
  },
  {
   "cell_type": "code",
   "execution_count": 44,
   "metadata": {},
   "outputs": [
    {
     "data": {
      "text/plain": [
       "Network(\n",
       "  (hidden): Linear(in_features=784, out_features=256, bias=True)\n",
       "  (output): Linear(in_features=256, out_features=10, bias=True)\n",
       "  (sigmoid): Sigmoid()\n",
       "  (softmax): Softmax(dim=1)\n",
       ")"
      ]
     },
     "execution_count": 44,
     "metadata": {},
     "output_type": "execute_result"
    }
   ],
   "source": [
    "# Create the network and look at it's text representation\n",
    "model = Network()\n",
    "model"
   ]
  },
  {
   "cell_type": "code",
   "execution_count": 45,
   "metadata": {},
   "outputs": [],
   "source": [
    "import torch.nn.functional as F\n",
    "\n",
    "class Network(nn.Module):\n",
    "    def __init__(self):\n",
    "        super().__init__()\n",
    "        # Inputs to hidden layer linear transformation\n",
    "        self.hidden = nn.Linear(784, 256)\n",
    "        # Output layer, 10 units - one for each digit\n",
    "        self.output = nn.Linear(256, 10)\n",
    "        \n",
    "    def forward(self, x):\n",
    "        # Hidden layer with sigmoid activation\n",
    "        x = F.sigmoid(self.hidden(x))\n",
    "        # Output layer with softmax activation\n",
    "        x = F.softmax(self.output(x), dim=1)\n",
    "        \n",
    "        return x"
   ]
  },
  {
   "cell_type": "code",
   "execution_count": 46,
   "metadata": {},
   "outputs": [],
   "source": [
    "class NetworkDemo(nn.Module):\n",
    "    def __init__(self):\n",
    "        super().__init__()\n",
    "        self.hidden1 = nn.Linear(784, 128)\n",
    "        self.hidden2 = nn.Linear(128, 64)\n",
    "        self.output = nn.Linear(64, 10)\n",
    "        \n",
    "    def forward(self, x):\n",
    "        x = F.relu(self.hidden1(x))\n",
    "        x = F.relu(self.hidden2(x))\n",
    "        x = F.softmax(self.output(x), dim=1)\n",
    "        \n",
    "        return x\n",
    "        "
   ]
  },
  {
   "cell_type": "code",
   "execution_count": 60,
   "metadata": {},
   "outputs": [
    {
     "name": "stdout",
     "output_type": "stream",
     "text": [
      "tensor(2.3030, grad_fn=<NllLossBackward>)\n"
     ]
    }
   ],
   "source": [
    "modelDemo = NetworkDemo()\n",
    "\n",
    "criterion = nn.CrossEntropyLoss()\n",
    "#images, labels = next(iter(trainloader))\n",
    "images = images.view(images.shape[0], -1)\n",
    "logits = modelDemo(images)\n",
    "\n",
    "\n",
    "loss = criterion(logits, labels)\n",
    "\n",
    "print(loss)"
   ]
  },
  {
   "cell_type": "code",
   "execution_count": 48,
   "metadata": {},
   "outputs": [
    {
     "name": "stdout",
     "output_type": "stream",
     "text": [
      "Parameter containing:\n",
      "tensor([[-0.0114,  0.0141,  0.0295,  ...,  0.0184,  0.0018,  0.0100],\n",
      "        [-0.0267, -0.0114,  0.0217,  ...,  0.0017, -0.0162,  0.0071],\n",
      "        [-0.0171,  0.0289,  0.0043,  ...,  0.0211, -0.0070, -0.0292],\n",
      "        ...,\n",
      "        [ 0.0152, -0.0246,  0.0279,  ..., -0.0203, -0.0013,  0.0191],\n",
      "        [ 0.0270, -0.0172,  0.0130,  ...,  0.0138, -0.0278,  0.0181],\n",
      "        [-0.0100,  0.0269, -0.0129,  ...,  0.0018, -0.0284, -0.0071]],\n",
      "       requires_grad=True)\n",
      "Parameter containing:\n",
      "tensor([ 2.7558e-03, -1.2970e-02, -6.8505e-03,  1.1409e-02,  3.1160e-02,\n",
      "        -1.7432e-02,  2.5214e-02, -3.3468e-02,  3.3148e-02,  1.3939e-02,\n",
      "         4.6981e-03,  6.9477e-04, -2.1179e-02,  1.6949e-02, -2.5607e-02,\n",
      "         1.6167e-02,  2.2513e-02,  8.9277e-03, -2.1858e-02,  3.4648e-02,\n",
      "        -2.4956e-02,  3.0679e-02,  2.1328e-03,  2.4469e-02,  3.3833e-02,\n",
      "         2.9634e-02, -7.1558e-03,  6.4897e-03, -2.3855e-02,  1.0835e-02,\n",
      "         4.1781e-03,  3.2505e-02,  1.1523e-02, -1.0090e-02, -1.4400e-02,\n",
      "        -4.3555e-03, -2.5898e-03,  1.9162e-02,  2.9919e-02, -2.3821e-02,\n",
      "        -1.6168e-02,  1.2911e-03, -1.4053e-02,  4.6930e-03, -3.3382e-02,\n",
      "         7.6715e-03, -7.1444e-03,  1.2505e-02, -2.9148e-02, -1.5935e-02,\n",
      "         3.3152e-02, -8.9240e-03, -4.1350e-03,  2.3761e-02,  2.8346e-02,\n",
      "         1.5431e-02,  1.1383e-02, -1.7139e-02, -1.0078e-02,  1.1300e-02,\n",
      "         1.7138e-02, -2.4836e-02, -2.4937e-02,  2.4511e-02, -3.6647e-03,\n",
      "         3.0371e-02, -1.1921e-03,  1.3019e-02, -4.3933e-03,  3.0335e-02,\n",
      "        -2.9787e-02,  3.0866e-02, -2.7660e-02, -2.9236e-02,  2.5028e-02,\n",
      "         5.6654e-03,  5.4450e-03, -2.1337e-02, -3.1545e-02,  1.7099e-02,\n",
      "         1.7864e-02,  1.8366e-03,  2.6730e-02,  1.7599e-02,  1.9813e-02,\n",
      "         2.6899e-03,  3.8382e-04,  4.2555e-03,  2.5401e-02, -2.0872e-02,\n",
      "         1.5382e-02,  1.6522e-02,  1.5735e-02,  2.1906e-03,  2.7481e-03,\n",
      "        -1.3214e-02,  3.3113e-02,  8.0971e-04, -1.2306e-02, -1.2930e-02,\n",
      "        -3.1567e-02, -2.2974e-02, -3.0895e-02, -2.9003e-03, -9.1024e-03,\n",
      "         8.4914e-03,  1.5282e-02, -1.8540e-02,  1.7865e-02,  3.2318e-02,\n",
      "         3.3737e-02,  7.1838e-03,  1.4030e-02, -2.8383e-02, -2.9208e-02,\n",
      "        -1.0462e-03, -3.4067e-02, -3.3611e-02, -5.6795e-06, -6.0124e-04,\n",
      "        -3.4393e-02,  6.9648e-03, -6.3985e-03, -3.2156e-03,  1.9033e-02,\n",
      "         2.8723e-03, -8.0877e-03, -1.0023e-02], requires_grad=True)\n"
     ]
    }
   ],
   "source": [
    "print(modelDemo.hidden1.weight)\n",
    "print(modelDemo.hidden1.bias)"
   ]
  },
  {
   "cell_type": "code",
   "execution_count": 52,
   "metadata": {},
   "outputs": [
    {
     "data": {
      "image/png": "[encoded data removed]",
      "text/plain": [
       "<Figure size 432x648 with 2 Axes>"
      ]
     },
     "metadata": {
      "image/png": {
       "height": 235,
       "width": 424
      },
      "needs_background": "light"
     },
     "output_type": "display_data"
    }
   ],
   "source": [
    "# Grab some data \n",
    "dataiter = iter(trainloader)\n",
    "images, labels = dataiter.next()\n",
    "\n",
    "# Resize images into a 1D vector, new shape is (batch size, color channels, image pixels) \n",
    "images.resize_(64, 1, 784)\n",
    "# or images.resize_(images.shape[0], 1, 784) to automatically get batch size\n",
    "\n",
    "# Forward pass through the network\n",
    "img_idx = 0\n",
    "ps = model.forward(images[img_idx,:])\n",
    "\n",
    "img = images[img_idx]\n",
    "helper1.view_classify(img.view(1, 28, 28), ps)"
   ]
  },
  {
   "cell_type": "code",
   "execution_count": 62,
   "metadata": {},
   "outputs": [
    {
     "name": "stdout",
     "output_type": "stream",
     "text": [
      "tensor(2.3063, grad_fn=<NllLossBackward>)\n"
     ]
    }
   ],
   "source": [
    "modelDemo = model = nn.Sequential(nn.Linear(784, 128),\n",
    "                      nn.ReLU(),\n",
    "                      nn.Linear(128, 64),\n",
    "                      nn.ReLU(),\n",
    "                      nn.Linear(64, 10), \n",
    "                      nn.LogSoftmax(dim=1))\n",
    "\n",
    "criterion = nn.NLLLoss()\n",
    "#images, labels = next(iter(trainloader))\n",
    "images = images.view(images.shape[0], -1)\n",
    "logits = modelDemo(images)\n",
    "\n",
    "\n",
    "loss = criterion(logits, labels)\n",
    "\n",
    "print(loss)"
   ]
  },
  {
   "cell_type": "code",
   "execution_count": null,
   "metadata": {},
   "outputs": [],
   "source": []
  },
  {
   "cell_type": "code",
   "execution_count": null,
   "metadata": {},
   "outputs": [],
   "source": []
  }
 ],
 "metadata": {
  "kernelspec": {
   "display_name": "Python 3",
   "language": "python",
   "name": "python3"
  },
  "language_info": {
   "codemirror_mode": {
    "name": "ipython",
    "version": 3
   },
   "file_extension": ".py",
   "mimetype": "text/x-python",
   "name": "python",
   "nbconvert_exporter": "python",
   "pygments_lexer": "ipython3",
   "version": "3.8.5"
  }
 },
 "nbformat": 4,
 "nbformat_minor": 4
}
