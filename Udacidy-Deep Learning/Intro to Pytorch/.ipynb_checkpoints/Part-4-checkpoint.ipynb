{
 "cells": [
  {
   "cell_type": "code",
   "execution_count": 130,
   "metadata": {},
   "outputs": [],
   "source": [
    "from torchvision import datasets, transforms\n",
    "import helper1\n",
    "import torch\n",
    "\n",
    "# Define a transform to normalize the data\n",
    "transform = transforms.Compose([transforms.ToTensor(),\n",
    "                                transforms.Normalize((0.5,), (0.5,))])\n",
    "# Download and load the training data\n",
    "trainset = datasets.FashionMNIST('~/.pytorch/F_MNIST_data/', download=True, train=True, transform=transform)\n",
    "trainloader = torch.utils.data.DataLoader(trainset, batch_size=64, shuffle=True)\n",
    "\n",
    "# Download and load the test data\n",
    "testset = datasets.FashionMNIST('~/.pytorch/F_MNIST_data/', download=True, train=False, transform=transform)\n",
    "testloader = torch.utils.data.DataLoader(testset, batch_size=64, shuffle=True)"
   ]
  },
  {
   "cell_type": "code",
   "execution_count": 131,
   "metadata": {},
   "outputs": [
    {
     "data": {
      "image/png": "[encoded data removed]",
      "text/plain": [
       "<Figure size 432x288 with 1 Axes>"
      ]
     },
     "metadata": {
      "image/png": {
       "height": 231,
       "width": 231
      },
      "needs_background": "light"
     },
     "output_type": "display_data"
    }
   ],
   "source": [
    "image, label = next(iter(trainloader))\n",
    "helper1.imshow(image[0,:]);\n",
    "\n"
   ]
  },
  {
   "cell_type": "code",
   "execution_count": 137,
   "metadata": {},
   "outputs": [],
   "source": [
    "# TODO: Define your network architecture here\n",
    "## Your solution here\n",
    "from torch import nn\n",
    "from torch import optim\n",
    "import torch.nn.functional as F\n",
    "\n",
    "\n",
    "class Classifier(nn.Module):\n",
    "    def __init__(self):\n",
    "        super().__init__()\n",
    "        \n",
    "        self.fc1 = nn.Linear(784, 256)\n",
    "        self.fc2 = nn.Linear(256, 128)\n",
    "        self.fc3 = nn.Linear(128, 64)\n",
    "        self.fc4 = nn.Linear(64, 10)\n",
    "        \n",
    "        self.dropout = nn.Dropout(p=0.2)\n",
    "    def forward(self, x):\n",
    "        x = x.view(x.shape[0], -1)\n",
    "        \n",
    "        x = self.dropout(F.relu(self.fc1(x)))\n",
    "        \n",
    "        x = self.dropout(F.relu(self.fc2(x)))\n",
    "        x = self.dropout(F.relu(self.fc3(x)))\n",
    "        x = self.dropout(F.log_softmax(self.fc4(x), dim=1))\n",
    "        \n",
    "        return x\n",
    "\n",
    "    \n",
    "\n"
   ]
  },
  {
   "cell_type": "code",
   "execution_count": 138,
   "metadata": {},
   "outputs": [],
   "source": [
    "# TODO: Create the network, define the criterion and optimizer\n",
    "model = Classifier()\n",
    "criterion = nn.NLLLoss()\n",
    "optimizer = optim.Adam(model.parameters(), lr=0.003)"
   ]
  },
  {
   "cell_type": "code",
   "execution_count": 139,
   "metadata": {},
   "outputs": [
    {
     "name": "stdout",
     "output_type": "stream",
     "text": [
      "Epoch: 1/20...  Training Loss: 0.633 Test Loss: 0.088 Test Accuracy: 0.134\n",
      "Epoch: 2/20...  Training Loss: 0.505 Test Loss: 0.078 Test Accuracy: 0.139\n",
      "Epoch: 3/20...  Training Loss: 0.473 Test Loss: 0.073 Test Accuracy: 0.140\n",
      "Epoch: 4/20...  Training Loss: 0.456 Test Loss: 0.074 Test Accuracy: 0.141\n",
      "Epoch: 5/20...  Training Loss: 0.445 Test Loss: 0.070 Test Accuracy: 0.142\n",
      "Epoch: 6/20...  Training Loss: 0.439 Test Loss: 0.069 Test Accuracy: 0.142\n",
      "Epoch: 7/20...  Training Loss: 0.423 Test Loss: 0.067 Test Accuracy: 0.144\n",
      "Epoch: 8/20...  Training Loss: 0.424 Test Loss: 0.068 Test Accuracy: 0.144\n",
      "Epoch: 9/20...  Training Loss: 0.411 Test Loss: 0.066 Test Accuracy: 0.144\n",
      "Epoch: 10/20...  Training Loss: 0.411 Test Loss: 0.068 Test Accuracy: 0.143\n",
      "Epoch: 11/20...  Training Loss: 0.407 Test Loss: 0.066 Test Accuracy: 0.144\n",
      "Epoch: 12/20...  Training Loss: 0.401 Test Loss: 0.066 Test Accuracy: 0.144\n",
      "Epoch: 13/20...  Training Loss: 0.401 Test Loss: 0.067 Test Accuracy: 0.145\n",
      "Epoch: 14/20...  Training Loss: 0.396 Test Loss: 0.064 Test Accuracy: 0.145\n",
      "Epoch: 15/20...  Training Loss: 0.399 Test Loss: 0.066 Test Accuracy: 0.144\n",
      "Epoch: 16/20...  Training Loss: 0.393 Test Loss: 0.066 Test Accuracy: 0.144\n",
      "Epoch: 17/20...  Training Loss: 0.393 Test Loss: 0.067 Test Accuracy: 0.145\n",
      "Epoch: 18/20...  Training Loss: 0.391 Test Loss: 0.064 Test Accuracy: 0.145\n",
      "Epoch: 19/20...  Training Loss: 0.380 Test Loss: 0.071 Test Accuracy: 0.143\n",
      "Epoch: 20/20...  Training Loss: 0.383 Test Loss: 0.063 Test Accuracy: 0.145\n"
     ]
    }
   ],
   "source": [
    "# TODO: Train the network here\n",
    "train_losses = list()\n",
    "test_losses = list()\n",
    "epochs = 20\n",
    "for e in range(epochs):\n",
    "    running_loss = 0\n",
    "    for images, labels in trainloader:\n",
    "        # Flatten MNIST images into a 784 long vector\n",
    "        optimizer.zero_grad()\n",
    "        output = model(images)\n",
    "        \n",
    "        # TODO: Training pass\n",
    "        \n",
    "        loss = criterion(output, labels)\n",
    "        \n",
    "        loss.backward()\n",
    "        optimizer.step()\n",
    "        running_loss += loss.item()\n",
    "    else:\n",
    "        \n",
    "        test_loss = 0\n",
    "        accuracy = 0\n",
    "        \n",
    "        with torch.no_grad():\n",
    "            model.eval()\n",
    "            # validation pass here\n",
    "            for images, labels in testloader:\n",
    "   \n",
    "                # TODO: Calculate the class probabilities (softmax) for img\n",
    "                log_ps = model(images)\n",
    "                test_loss += criterion(log_ps, labels)\n",
    "                ps = torch.exp(log_ps)\n",
    "                top_p, top_class = log_ps.topk(1, dim=1)\n",
    "\n",
    "                # not sure why * ???\n",
    "                equals = top_class == labels.view(*top_class.shape)\n",
    "\n",
    "                accuracy += torch.mean(equals.type(torch.FloatTensor))\n",
    "        train_losses.append(running_loss / len(trainloader))\n",
    "        test_losses.append(test_loss / len(testloader))\n",
    "        model.train()\n",
    "        print(\"Epoch: {}/{}... \".format(e + 1, epochs), \n",
    "             \"Training Loss: {:.3f}\".format(running_loss / len(trainloader)), \n",
    "             \"Test Loss: {:.3f}\".format(test_loss/ len(testloader)), \n",
    "             \"Test Accuracy: {:.3f}\".format(accuracy/ len(testloader)))"
   ]
  },
  {
   "cell_type": "code",
   "execution_count": 146,
   "metadata": {},
   "outputs": [
    {
     "name": "stdout",
     "output_type": "stream",
     "text": [
      "torch.Size([64, 1, 28, 28])\n",
      "torch.Size([64, 10])\n"
     ]
    },
    {
     "data": {
      "text/plain": [
       "<matplotlib.legend.Legend at 0x7fc01c073070>"
      ]
     },
     "execution_count": 146,
     "metadata": {},
     "output_type": "execute_result"
    },
    {
     "data": {
      "image/png": "[encoded data removed]",
      "text/plain": [
       "<Figure size 432x288 with 1 Axes>"
      ]
     },
     "metadata": {
      "image/png": {
       "height": 248,
       "width": 378
      },
      "needs_background": "light"
     },
     "output_type": "display_data"
    }
   ],
   "source": [
    "%matplotlib inline\n",
    "%config InlineBackend.figure_format = 'retina'\n",
    "\n",
    "\n",
    "\n",
    "import helper1\n",
    "import matplotlib.pyplot as plt\n",
    "# Test out your network!\n",
    "\n",
    "dataiter = iter(testloader)\n",
    "images, labels = dataiter.next()\n",
    "\n",
    "\n",
    "# TODO: Calculate the class probabilities (softmax) for img\n",
    "print(images.shape)\n",
    "ps = torch.exp(model(images))\n",
    "print(ps.shape)\n",
    "\n",
    "\n",
    "# Plot the image and probabilities\n",
    "plt.plot(train_losses, label=\"Training Losses\")\n",
    "plt.plot(test_losses, label=\"Test Losses\")\n",
    "plt.legend(frameon=False)\n",
    "\n",
    "#helper1.view_classify(img.resize_(1, 28, 28), ps, version='Fashion')"
   ]
  },
  {
   "cell_type": "code",
   "execution_count": 147,
   "metadata": {},
   "outputs": [
    {
     "name": "stdout",
     "output_type": "stream",
     "text": [
      "torch.Size([64, 1])\n",
      "torch.Size([64])\n",
      "accuracy:  23.4375\n"
     ]
    }
   ],
   "source": [
    "top_p, top_class = ps.topk(1, dim=1)\n",
    "print(top_class.shape)\n",
    "\n",
    "print(labels.shape)\n",
    "# not sure why * ???\n",
    "equals = top_class == labels.view(*top_class.shape)\n",
    "\n",
    "accuracy = torch.mean(equals.type(torch.FloatTensor))\n",
    "print(\"accuracy: \", accuracy.item() * 100)"
   ]
  },
  {
   "cell_type": "code",
   "execution_count": null,
   "metadata": {},
   "outputs": [],
   "source": []
  }
 ],
 "metadata": {
  "kernelspec": {
   "display_name": "Python 3",
   "language": "python",
   "name": "python3"
  },
  "language_info": {
   "codemirror_mode": {
    "name": "ipython",
    "version": 3
   },
   "file_extension": ".py",
   "mimetype": "text/x-python",
   "name": "python",
   "nbconvert_exporter": "python",
   "pygments_lexer": "ipython3",
   "version": "3.8.5"
  }
 },
 "nbformat": 4,
 "nbformat_minor": 4
}
